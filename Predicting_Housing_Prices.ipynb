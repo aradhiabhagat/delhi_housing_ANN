{
  "cells": [
    {
      "cell_type": "code",
      "execution_count": 49,
      "metadata": {
        "id": "pd06FBBlZ-q_"
      },
      "outputs": [],
      "source": [
        "import pandas as pd\n",
        "import random"
      ]
    },
    {
      "cell_type": "code",
      "source": [
        "random.seed(a=None, version=2)"
      ],
      "metadata": {
        "id": "eyoGxeUrpzCj"
      },
      "execution_count": 50,
      "outputs": []
    },
    {
      "cell_type": "code",
      "execution_count": 51,
      "metadata": {
        "colab": {
          "base_uri": "https://localhost:8080/",
          "height": 73
        },
        "id": "tfDJ9hPyaLfr",
        "outputId": "231d7d51-fc17-4795-fded-70667dc7b33c"
      },
      "outputs": [
        {
          "output_type": "display_data",
          "data": {
            "text/plain": [
              "<IPython.core.display.HTML object>"
            ],
            "text/html": [
              "\n",
              "     <input type=\"file\" id=\"files-02e4cea6-b7f5-4fc1-9027-0139b94040ed\" name=\"files[]\" multiple disabled\n",
              "        style=\"border:none\" />\n",
              "     <output id=\"result-02e4cea6-b7f5-4fc1-9027-0139b94040ed\">\n",
              "      Upload widget is only available when the cell has been executed in the\n",
              "      current browser session. Please rerun this cell to enable.\n",
              "      </output>\n",
              "      <script>// Copyright 2017 Google LLC\n",
              "//\n",
              "// Licensed under the Apache License, Version 2.0 (the \"License\");\n",
              "// you may not use this file except in compliance with the License.\n",
              "// You may obtain a copy of the License at\n",
              "//\n",
              "//      http://www.apache.org/licenses/LICENSE-2.0\n",
              "//\n",
              "// Unless required by applicable law or agreed to in writing, software\n",
              "// distributed under the License is distributed on an \"AS IS\" BASIS,\n",
              "// WITHOUT WARRANTIES OR CONDITIONS OF ANY KIND, either express or implied.\n",
              "// See the License for the specific language governing permissions and\n",
              "// limitations under the License.\n",
              "\n",
              "/**\n",
              " * @fileoverview Helpers for google.colab Python module.\n",
              " */\n",
              "(function(scope) {\n",
              "function span(text, styleAttributes = {}) {\n",
              "  const element = document.createElement('span');\n",
              "  element.textContent = text;\n",
              "  for (const key of Object.keys(styleAttributes)) {\n",
              "    element.style[key] = styleAttributes[key];\n",
              "  }\n",
              "  return element;\n",
              "}\n",
              "\n",
              "// Max number of bytes which will be uploaded at a time.\n",
              "const MAX_PAYLOAD_SIZE = 100 * 1024;\n",
              "\n",
              "function _uploadFiles(inputId, outputId) {\n",
              "  const steps = uploadFilesStep(inputId, outputId);\n",
              "  const outputElement = document.getElementById(outputId);\n",
              "  // Cache steps on the outputElement to make it available for the next call\n",
              "  // to uploadFilesContinue from Python.\n",
              "  outputElement.steps = steps;\n",
              "\n",
              "  return _uploadFilesContinue(outputId);\n",
              "}\n",
              "\n",
              "// This is roughly an async generator (not supported in the browser yet),\n",
              "// where there are multiple asynchronous steps and the Python side is going\n",
              "// to poll for completion of each step.\n",
              "// This uses a Promise to block the python side on completion of each step,\n",
              "// then passes the result of the previous step as the input to the next step.\n",
              "function _uploadFilesContinue(outputId) {\n",
              "  const outputElement = document.getElementById(outputId);\n",
              "  const steps = outputElement.steps;\n",
              "\n",
              "  const next = steps.next(outputElement.lastPromiseValue);\n",
              "  return Promise.resolve(next.value.promise).then((value) => {\n",
              "    // Cache the last promise value to make it available to the next\n",
              "    // step of the generator.\n",
              "    outputElement.lastPromiseValue = value;\n",
              "    return next.value.response;\n",
              "  });\n",
              "}\n",
              "\n",
              "/**\n",
              " * Generator function which is called between each async step of the upload\n",
              " * process.\n",
              " * @param {string} inputId Element ID of the input file picker element.\n",
              " * @param {string} outputId Element ID of the output display.\n",
              " * @return {!Iterable<!Object>} Iterable of next steps.\n",
              " */\n",
              "function* uploadFilesStep(inputId, outputId) {\n",
              "  const inputElement = document.getElementById(inputId);\n",
              "  inputElement.disabled = false;\n",
              "\n",
              "  const outputElement = document.getElementById(outputId);\n",
              "  outputElement.innerHTML = '';\n",
              "\n",
              "  const pickedPromise = new Promise((resolve) => {\n",
              "    inputElement.addEventListener('change', (e) => {\n",
              "      resolve(e.target.files);\n",
              "    });\n",
              "  });\n",
              "\n",
              "  const cancel = document.createElement('button');\n",
              "  inputElement.parentElement.appendChild(cancel);\n",
              "  cancel.textContent = 'Cancel upload';\n",
              "  const cancelPromise = new Promise((resolve) => {\n",
              "    cancel.onclick = () => {\n",
              "      resolve(null);\n",
              "    };\n",
              "  });\n",
              "\n",
              "  // Wait for the user to pick the files.\n",
              "  const files = yield {\n",
              "    promise: Promise.race([pickedPromise, cancelPromise]),\n",
              "    response: {\n",
              "      action: 'starting',\n",
              "    }\n",
              "  };\n",
              "\n",
              "  cancel.remove();\n",
              "\n",
              "  // Disable the input element since further picks are not allowed.\n",
              "  inputElement.disabled = true;\n",
              "\n",
              "  if (!files) {\n",
              "    return {\n",
              "      response: {\n",
              "        action: 'complete',\n",
              "      }\n",
              "    };\n",
              "  }\n",
              "\n",
              "  for (const file of files) {\n",
              "    const li = document.createElement('li');\n",
              "    li.append(span(file.name, {fontWeight: 'bold'}));\n",
              "    li.append(span(\n",
              "        `(${file.type || 'n/a'}) - ${file.size} bytes, ` +\n",
              "        `last modified: ${\n",
              "            file.lastModifiedDate ? file.lastModifiedDate.toLocaleDateString() :\n",
              "                                    'n/a'} - `));\n",
              "    const percent = span('0% done');\n",
              "    li.appendChild(percent);\n",
              "\n",
              "    outputElement.appendChild(li);\n",
              "\n",
              "    const fileDataPromise = new Promise((resolve) => {\n",
              "      const reader = new FileReader();\n",
              "      reader.onload = (e) => {\n",
              "        resolve(e.target.result);\n",
              "      };\n",
              "      reader.readAsArrayBuffer(file);\n",
              "    });\n",
              "    // Wait for the data to be ready.\n",
              "    let fileData = yield {\n",
              "      promise: fileDataPromise,\n",
              "      response: {\n",
              "        action: 'continue',\n",
              "      }\n",
              "    };\n",
              "\n",
              "    // Use a chunked sending to avoid message size limits. See b/62115660.\n",
              "    let position = 0;\n",
              "    do {\n",
              "      const length = Math.min(fileData.byteLength - position, MAX_PAYLOAD_SIZE);\n",
              "      const chunk = new Uint8Array(fileData, position, length);\n",
              "      position += length;\n",
              "\n",
              "      const base64 = btoa(String.fromCharCode.apply(null, chunk));\n",
              "      yield {\n",
              "        response: {\n",
              "          action: 'append',\n",
              "          file: file.name,\n",
              "          data: base64,\n",
              "        },\n",
              "      };\n",
              "\n",
              "      let percentDone = fileData.byteLength === 0 ?\n",
              "          100 :\n",
              "          Math.round((position / fileData.byteLength) * 100);\n",
              "      percent.textContent = `${percentDone}% done`;\n",
              "\n",
              "    } while (position < fileData.byteLength);\n",
              "  }\n",
              "\n",
              "  // All done.\n",
              "  yield {\n",
              "    response: {\n",
              "      action: 'complete',\n",
              "    }\n",
              "  };\n",
              "}\n",
              "\n",
              "scope.google = scope.google || {};\n",
              "scope.google.colab = scope.google.colab || {};\n",
              "scope.google.colab._files = {\n",
              "  _uploadFiles,\n",
              "  _uploadFilesContinue,\n",
              "};\n",
              "})(self);\n",
              "</script> "
            ]
          },
          "metadata": {}
        },
        {
          "output_type": "stream",
          "name": "stdout",
          "text": [
            "Saving Delhi Housing - Delhi.csv to Delhi Housing - Delhi.csv\n"
          ]
        }
      ],
      "source": [
        "from google.colab import files\n",
        "uploaded = files.upload()"
      ]
    },
    {
      "cell_type": "code",
      "execution_count": 54,
      "metadata": {
        "id": "yeOBNRC7aU1D"
      },
      "outputs": [],
      "source": [
        "import io\n",
        "import pandas as pd\n",
        "df = pd.read_csv(io.BytesIO(uploaded['Delhi Housing - Delhi.csv']))\n",
        "# Dataset is now stored in a Pandas Dataframe"
      ]
    },
    {
      "cell_type": "code",
      "execution_count": 56,
      "metadata": {
        "id": "RjhrdLD5ahw_"
      },
      "outputs": [],
      "source": [
        "dataset = df.values"
      ]
    },
    {
      "cell_type": "code",
      "execution_count": 57,
      "metadata": {
        "colab": {
          "base_uri": "https://localhost:8080/"
        },
        "id": "6B465xVsaqlF",
        "outputId": "ad8c3591-2406-46eb-da76-4fc5c1724290"
      },
      "outputs": [
        {
          "output_type": "execute_result",
          "data": {
            "text/plain": [
              "array([[    1200,        2,        1, ...,        1,        1, 10500000],\n",
              "       [    1000,        3,        0, ...,        0,        0,  6000000],\n",
              "       [    1350,        2,        1, ...,        0,        0, 15000000],\n",
              "       ...,\n",
              "       [     415,        1,        1, ...,        9,        9,  2600000],\n",
              "       [     415,        1,        1, ...,        9,        9,  5500000],\n",
              "       [     900,        3,        1, ...,        9,        9,  4200000]])"
            ]
          },
          "metadata": {},
          "execution_count": 57
        }
      ],
      "source": [
        "dataset"
      ]
    },
    {
      "cell_type": "code",
      "source": [
        "df.isnull()"
      ],
      "metadata": {
        "colab": {
          "base_uri": "https://localhost:8080/",
          "height": 505
        },
        "id": "KdSK_CNGqKdG",
        "outputId": "318ea0fa-05e5-44d2-f70d-52bde8e97937"
      },
      "execution_count": 59,
      "outputs": [
        {
          "output_type": "execute_result",
          "data": {
            "text/plain": [
              "       Area  No. of Bedrooms  Resale  MaintenanceStaff  Gymnasium  \\\n",
              "0     False            False   False             False      False   \n",
              "1     False            False   False             False      False   \n",
              "2     False            False   False             False      False   \n",
              "3     False            False   False             False      False   \n",
              "4     False            False   False             False      False   \n",
              "...     ...              ...     ...               ...        ...   \n",
              "4993  False            False   False             False      False   \n",
              "4994  False            False   False             False      False   \n",
              "4995  False            False   False             False      False   \n",
              "4996  False            False   False             False      False   \n",
              "4997  False            False   False             False      False   \n",
              "\n",
              "      SwimmingPool  LandscapedGardens  JoggingTrack  RainWaterHarvesting  \\\n",
              "0            False              False         False                False   \n",
              "1            False              False         False                False   \n",
              "2            False              False         False                False   \n",
              "3            False              False         False                False   \n",
              "4            False              False         False                False   \n",
              "...            ...                ...           ...                  ...   \n",
              "4993         False              False         False                False   \n",
              "4994         False              False         False                False   \n",
              "4995         False              False         False                False   \n",
              "4996         False              False         False                False   \n",
              "4997         False              False         False                False   \n",
              "\n",
              "      IndoorGames  ...  Cafeteria  MultipurposeRoom  Hospital  WashingMachine  \\\n",
              "0           False  ...      False             False     False           False   \n",
              "1           False  ...      False             False     False           False   \n",
              "2           False  ...      False             False     False           False   \n",
              "3           False  ...      False             False     False           False   \n",
              "4           False  ...      False             False     False           False   \n",
              "...           ...  ...        ...               ...       ...             ...   \n",
              "4993        False  ...      False             False     False           False   \n",
              "4994        False  ...      False             False     False           False   \n",
              "4995        False  ...      False             False     False           False   \n",
              "4996        False  ...      False             False     False           False   \n",
              "4997        False  ...      False             False     False           False   \n",
              "\n",
              "      Gasconnection     AC   Wifi  Children'splayarea  LiftAvailable  Price  \n",
              "0             False  False  False               False          False  False  \n",
              "1             False  False  False               False          False  False  \n",
              "2             False  False  False               False          False  False  \n",
              "3             False  False  False               False          False  False  \n",
              "4             False  False  False               False          False  False  \n",
              "...             ...    ...    ...                 ...            ...    ...  \n",
              "4993          False  False  False               False          False  False  \n",
              "4994          False  False  False               False          False  False  \n",
              "4995          False  False  False               False          False  False  \n",
              "4996          False  False  False               False          False  False  \n",
              "4997          False  False  False               False          False  False  \n",
              "\n",
              "[4998 rows x 30 columns]"
            ],
            "text/html": [
              "\n",
              "  <div id=\"df-5eff351f-37fa-4410-985a-c07c65494fb5\">\n",
              "    <div class=\"colab-df-container\">\n",
              "      <div>\n",
              "<style scoped>\n",
              "    .dataframe tbody tr th:only-of-type {\n",
              "        vertical-align: middle;\n",
              "    }\n",
              "\n",
              "    .dataframe tbody tr th {\n",
              "        vertical-align: top;\n",
              "    }\n",
              "\n",
              "    .dataframe thead th {\n",
              "        text-align: right;\n",
              "    }\n",
              "</style>\n",
              "<table border=\"1\" class=\"dataframe\">\n",
              "  <thead>\n",
              "    <tr style=\"text-align: right;\">\n",
              "      <th></th>\n",
              "      <th>Area</th>\n",
              "      <th>No. of Bedrooms</th>\n",
              "      <th>Resale</th>\n",
              "      <th>MaintenanceStaff</th>\n",
              "      <th>Gymnasium</th>\n",
              "      <th>SwimmingPool</th>\n",
              "      <th>LandscapedGardens</th>\n",
              "      <th>JoggingTrack</th>\n",
              "      <th>RainWaterHarvesting</th>\n",
              "      <th>IndoorGames</th>\n",
              "      <th>...</th>\n",
              "      <th>Cafeteria</th>\n",
              "      <th>MultipurposeRoom</th>\n",
              "      <th>Hospital</th>\n",
              "      <th>WashingMachine</th>\n",
              "      <th>Gasconnection</th>\n",
              "      <th>AC</th>\n",
              "      <th>Wifi</th>\n",
              "      <th>Children'splayarea</th>\n",
              "      <th>LiftAvailable</th>\n",
              "      <th>Price</th>\n",
              "    </tr>\n",
              "  </thead>\n",
              "  <tbody>\n",
              "    <tr>\n",
              "      <th>0</th>\n",
              "      <td>False</td>\n",
              "      <td>False</td>\n",
              "      <td>False</td>\n",
              "      <td>False</td>\n",
              "      <td>False</td>\n",
              "      <td>False</td>\n",
              "      <td>False</td>\n",
              "      <td>False</td>\n",
              "      <td>False</td>\n",
              "      <td>False</td>\n",
              "      <td>...</td>\n",
              "      <td>False</td>\n",
              "      <td>False</td>\n",
              "      <td>False</td>\n",
              "      <td>False</td>\n",
              "      <td>False</td>\n",
              "      <td>False</td>\n",
              "      <td>False</td>\n",
              "      <td>False</td>\n",
              "      <td>False</td>\n",
              "      <td>False</td>\n",
              "    </tr>\n",
              "    <tr>\n",
              "      <th>1</th>\n",
              "      <td>False</td>\n",
              "      <td>False</td>\n",
              "      <td>False</td>\n",
              "      <td>False</td>\n",
              "      <td>False</td>\n",
              "      <td>False</td>\n",
              "      <td>False</td>\n",
              "      <td>False</td>\n",
              "      <td>False</td>\n",
              "      <td>False</td>\n",
              "      <td>...</td>\n",
              "      <td>False</td>\n",
              "      <td>False</td>\n",
              "      <td>False</td>\n",
              "      <td>False</td>\n",
              "      <td>False</td>\n",
              "      <td>False</td>\n",
              "      <td>False</td>\n",
              "      <td>False</td>\n",
              "      <td>False</td>\n",
              "      <td>False</td>\n",
              "    </tr>\n",
              "    <tr>\n",
              "      <th>2</th>\n",
              "      <td>False</td>\n",
              "      <td>False</td>\n",
              "      <td>False</td>\n",
              "      <td>False</td>\n",
              "      <td>False</td>\n",
              "      <td>False</td>\n",
              "      <td>False</td>\n",
              "      <td>False</td>\n",
              "      <td>False</td>\n",
              "      <td>False</td>\n",
              "      <td>...</td>\n",
              "      <td>False</td>\n",
              "      <td>False</td>\n",
              "      <td>False</td>\n",
              "      <td>False</td>\n",
              "      <td>False</td>\n",
              "      <td>False</td>\n",
              "      <td>False</td>\n",
              "      <td>False</td>\n",
              "      <td>False</td>\n",
              "      <td>False</td>\n",
              "    </tr>\n",
              "    <tr>\n",
              "      <th>3</th>\n",
              "      <td>False</td>\n",
              "      <td>False</td>\n",
              "      <td>False</td>\n",
              "      <td>False</td>\n",
              "      <td>False</td>\n",
              "      <td>False</td>\n",
              "      <td>False</td>\n",
              "      <td>False</td>\n",
              "      <td>False</td>\n",
              "      <td>False</td>\n",
              "      <td>...</td>\n",
              "      <td>False</td>\n",
              "      <td>False</td>\n",
              "      <td>False</td>\n",
              "      <td>False</td>\n",
              "      <td>False</td>\n",
              "      <td>False</td>\n",
              "      <td>False</td>\n",
              "      <td>False</td>\n",
              "      <td>False</td>\n",
              "      <td>False</td>\n",
              "    </tr>\n",
              "    <tr>\n",
              "      <th>4</th>\n",
              "      <td>False</td>\n",
              "      <td>False</td>\n",
              "      <td>False</td>\n",
              "      <td>False</td>\n",
              "      <td>False</td>\n",
              "      <td>False</td>\n",
              "      <td>False</td>\n",
              "      <td>False</td>\n",
              "      <td>False</td>\n",
              "      <td>False</td>\n",
              "      <td>...</td>\n",
              "      <td>False</td>\n",
              "      <td>False</td>\n",
              "      <td>False</td>\n",
              "      <td>False</td>\n",
              "      <td>False</td>\n",
              "      <td>False</td>\n",
              "      <td>False</td>\n",
              "      <td>False</td>\n",
              "      <td>False</td>\n",
              "      <td>False</td>\n",
              "    </tr>\n",
              "    <tr>\n",
              "      <th>...</th>\n",
              "      <td>...</td>\n",
              "      <td>...</td>\n",
              "      <td>...</td>\n",
              "      <td>...</td>\n",
              "      <td>...</td>\n",
              "      <td>...</td>\n",
              "      <td>...</td>\n",
              "      <td>...</td>\n",
              "      <td>...</td>\n",
              "      <td>...</td>\n",
              "      <td>...</td>\n",
              "      <td>...</td>\n",
              "      <td>...</td>\n",
              "      <td>...</td>\n",
              "      <td>...</td>\n",
              "      <td>...</td>\n",
              "      <td>...</td>\n",
              "      <td>...</td>\n",
              "      <td>...</td>\n",
              "      <td>...</td>\n",
              "      <td>...</td>\n",
              "    </tr>\n",
              "    <tr>\n",
              "      <th>4993</th>\n",
              "      <td>False</td>\n",
              "      <td>False</td>\n",
              "      <td>False</td>\n",
              "      <td>False</td>\n",
              "      <td>False</td>\n",
              "      <td>False</td>\n",
              "      <td>False</td>\n",
              "      <td>False</td>\n",
              "      <td>False</td>\n",
              "      <td>False</td>\n",
              "      <td>...</td>\n",
              "      <td>False</td>\n",
              "      <td>False</td>\n",
              "      <td>False</td>\n",
              "      <td>False</td>\n",
              "      <td>False</td>\n",
              "      <td>False</td>\n",
              "      <td>False</td>\n",
              "      <td>False</td>\n",
              "      <td>False</td>\n",
              "      <td>False</td>\n",
              "    </tr>\n",
              "    <tr>\n",
              "      <th>4994</th>\n",
              "      <td>False</td>\n",
              "      <td>False</td>\n",
              "      <td>False</td>\n",
              "      <td>False</td>\n",
              "      <td>False</td>\n",
              "      <td>False</td>\n",
              "      <td>False</td>\n",
              "      <td>False</td>\n",
              "      <td>False</td>\n",
              "      <td>False</td>\n",
              "      <td>...</td>\n",
              "      <td>False</td>\n",
              "      <td>False</td>\n",
              "      <td>False</td>\n",
              "      <td>False</td>\n",
              "      <td>False</td>\n",
              "      <td>False</td>\n",
              "      <td>False</td>\n",
              "      <td>False</td>\n",
              "      <td>False</td>\n",
              "      <td>False</td>\n",
              "    </tr>\n",
              "    <tr>\n",
              "      <th>4995</th>\n",
              "      <td>False</td>\n",
              "      <td>False</td>\n",
              "      <td>False</td>\n",
              "      <td>False</td>\n",
              "      <td>False</td>\n",
              "      <td>False</td>\n",
              "      <td>False</td>\n",
              "      <td>False</td>\n",
              "      <td>False</td>\n",
              "      <td>False</td>\n",
              "      <td>...</td>\n",
              "      <td>False</td>\n",
              "      <td>False</td>\n",
              "      <td>False</td>\n",
              "      <td>False</td>\n",
              "      <td>False</td>\n",
              "      <td>False</td>\n",
              "      <td>False</td>\n",
              "      <td>False</td>\n",
              "      <td>False</td>\n",
              "      <td>False</td>\n",
              "    </tr>\n",
              "    <tr>\n",
              "      <th>4996</th>\n",
              "      <td>False</td>\n",
              "      <td>False</td>\n",
              "      <td>False</td>\n",
              "      <td>False</td>\n",
              "      <td>False</td>\n",
              "      <td>False</td>\n",
              "      <td>False</td>\n",
              "      <td>False</td>\n",
              "      <td>False</td>\n",
              "      <td>False</td>\n",
              "      <td>...</td>\n",
              "      <td>False</td>\n",
              "      <td>False</td>\n",
              "      <td>False</td>\n",
              "      <td>False</td>\n",
              "      <td>False</td>\n",
              "      <td>False</td>\n",
              "      <td>False</td>\n",
              "      <td>False</td>\n",
              "      <td>False</td>\n",
              "      <td>False</td>\n",
              "    </tr>\n",
              "    <tr>\n",
              "      <th>4997</th>\n",
              "      <td>False</td>\n",
              "      <td>False</td>\n",
              "      <td>False</td>\n",
              "      <td>False</td>\n",
              "      <td>False</td>\n",
              "      <td>False</td>\n",
              "      <td>False</td>\n",
              "      <td>False</td>\n",
              "      <td>False</td>\n",
              "      <td>False</td>\n",
              "      <td>...</td>\n",
              "      <td>False</td>\n",
              "      <td>False</td>\n",
              "      <td>False</td>\n",
              "      <td>False</td>\n",
              "      <td>False</td>\n",
              "      <td>False</td>\n",
              "      <td>False</td>\n",
              "      <td>False</td>\n",
              "      <td>False</td>\n",
              "      <td>False</td>\n",
              "    </tr>\n",
              "  </tbody>\n",
              "</table>\n",
              "<p>4998 rows × 30 columns</p>\n",
              "</div>\n",
              "      <button class=\"colab-df-convert\" onclick=\"convertToInteractive('df-5eff351f-37fa-4410-985a-c07c65494fb5')\"\n",
              "              title=\"Convert this dataframe to an interactive table.\"\n",
              "              style=\"display:none;\">\n",
              "        \n",
              "  <svg xmlns=\"http://www.w3.org/2000/svg\" height=\"24px\"viewBox=\"0 0 24 24\"\n",
              "       width=\"24px\">\n",
              "    <path d=\"M0 0h24v24H0V0z\" fill=\"none\"/>\n",
              "    <path d=\"M18.56 5.44l.94 2.06.94-2.06 2.06-.94-2.06-.94-.94-2.06-.94 2.06-2.06.94zm-11 1L8.5 8.5l.94-2.06 2.06-.94-2.06-.94L8.5 2.5l-.94 2.06-2.06.94zm10 10l.94 2.06.94-2.06 2.06-.94-2.06-.94-.94-2.06-.94 2.06-2.06.94z\"/><path d=\"M17.41 7.96l-1.37-1.37c-.4-.4-.92-.59-1.43-.59-.52 0-1.04.2-1.43.59L10.3 9.45l-7.72 7.72c-.78.78-.78 2.05 0 2.83L4 21.41c.39.39.9.59 1.41.59.51 0 1.02-.2 1.41-.59l7.78-7.78 2.81-2.81c.8-.78.8-2.07 0-2.86zM5.41 20L4 18.59l7.72-7.72 1.47 1.35L5.41 20z\"/>\n",
              "  </svg>\n",
              "      </button>\n",
              "      \n",
              "  <style>\n",
              "    .colab-df-container {\n",
              "      display:flex;\n",
              "      flex-wrap:wrap;\n",
              "      gap: 12px;\n",
              "    }\n",
              "\n",
              "    .colab-df-convert {\n",
              "      background-color: #E8F0FE;\n",
              "      border: none;\n",
              "      border-radius: 50%;\n",
              "      cursor: pointer;\n",
              "      display: none;\n",
              "      fill: #1967D2;\n",
              "      height: 32px;\n",
              "      padding: 0 0 0 0;\n",
              "      width: 32px;\n",
              "    }\n",
              "\n",
              "    .colab-df-convert:hover {\n",
              "      background-color: #E2EBFA;\n",
              "      box-shadow: 0px 1px 2px rgba(60, 64, 67, 0.3), 0px 1px 3px 1px rgba(60, 64, 67, 0.15);\n",
              "      fill: #174EA6;\n",
              "    }\n",
              "\n",
              "    [theme=dark] .colab-df-convert {\n",
              "      background-color: #3B4455;\n",
              "      fill: #D2E3FC;\n",
              "    }\n",
              "\n",
              "    [theme=dark] .colab-df-convert:hover {\n",
              "      background-color: #434B5C;\n",
              "      box-shadow: 0px 1px 3px 1px rgba(0, 0, 0, 0.15);\n",
              "      filter: drop-shadow(0px 1px 2px rgba(0, 0, 0, 0.3));\n",
              "      fill: #FFFFFF;\n",
              "    }\n",
              "  </style>\n",
              "\n",
              "      <script>\n",
              "        const buttonEl =\n",
              "          document.querySelector('#df-5eff351f-37fa-4410-985a-c07c65494fb5 button.colab-df-convert');\n",
              "        buttonEl.style.display =\n",
              "          google.colab.kernel.accessAllowed ? 'block' : 'none';\n",
              "\n",
              "        async function convertToInteractive(key) {\n",
              "          const element = document.querySelector('#df-5eff351f-37fa-4410-985a-c07c65494fb5');\n",
              "          const dataTable =\n",
              "            await google.colab.kernel.invokeFunction('convertToInteractive',\n",
              "                                                     [key], {});\n",
              "          if (!dataTable) return;\n",
              "\n",
              "          const docLinkHtml = 'Like what you see? Visit the ' +\n",
              "            '<a target=\"_blank\" href=https://colab.research.google.com/notebooks/data_table.ipynb>data table notebook</a>'\n",
              "            + ' to learn more about interactive tables.';\n",
              "          element.innerHTML = '';\n",
              "          dataTable['output_type'] = 'display_data';\n",
              "          await google.colab.output.renderOutput(dataTable, element);\n",
              "          const docLink = document.createElement('div');\n",
              "          docLink.innerHTML = docLinkHtml;\n",
              "          element.appendChild(docLink);\n",
              "        }\n",
              "      </script>\n",
              "    </div>\n",
              "  </div>\n",
              "  "
            ]
          },
          "metadata": {},
          "execution_count": 59
        }
      ]
    },
    {
      "cell_type": "code",
      "source": [
        "from sklearn.preprocessing import MinMaxScaler"
      ],
      "metadata": {
        "id": "6Xmqlb7bcT58"
      },
      "execution_count": 60,
      "outputs": []
    },
    {
      "cell_type": "code",
      "source": [
        "scaler = MinMaxScaler(feature_range=(0, 1))\n",
        "scaled_data = scaler.fit_transform(dataset)\n",
        "print(scaled_data)\n"
      ],
      "metadata": {
        "colab": {
          "base_uri": "https://localhost:8080/"
        },
        "id": "WG18QGA8dN65",
        "outputId": "0c0a321a-5510-4e2b-9e18-0f4630ca7b13"
      },
      "execution_count": 61,
      "outputs": [
        {
          "output_type": "stream",
          "name": "stdout",
          "text": [
            "[[6.32911392e-02 1.42857143e-01 1.00000000e+00 ... 1.11111111e-01\n",
            "  1.11111111e-01 9.96950506e-03]\n",
            " [5.06329114e-02 2.85714286e-01 0.00000000e+00 ... 0.00000000e+00\n",
            "  0.00000000e+00 4.69153179e-03]\n",
            " [7.27848101e-02 1.42857143e-01 1.00000000e+00 ... 0.00000000e+00\n",
            "  0.00000000e+00 1.52474783e-02]\n",
            " ...\n",
            " [1.36075949e-02 0.00000000e+00 1.00000000e+00 ... 1.00000000e+00\n",
            "  1.00000000e+00 7.03729769e-04]\n",
            " [1.36075949e-02 0.00000000e+00 1.00000000e+00 ... 1.00000000e+00\n",
            "  1.00000000e+00 4.10509032e-03]\n",
            " [4.43037975e-02 2.85714286e-01 1.00000000e+00 ... 1.00000000e+00\n",
            "  1.00000000e+00 2.58034248e-03]]\n"
          ]
        }
      ]
    },
    {
      "cell_type": "code",
      "execution_count": 62,
      "metadata": {
        "id": "KLNY7XLyauTp"
      },
      "outputs": [],
      "source": [
        "X = scaled_data[:,0:29]\n",
        "Y = scaled_data[:,29]"
      ]
    },
    {
      "cell_type": "code",
      "source": [
        "X"
      ],
      "metadata": {
        "colab": {
          "base_uri": "https://localhost:8080/"
        },
        "id": "m4QqQnm6EX76",
        "outputId": "894d97b6-59b6-4675-e00e-1e3aa756f924"
      },
      "execution_count": 63,
      "outputs": [
        {
          "output_type": "execute_result",
          "data": {
            "text/plain": [
              "array([[0.06329114, 0.14285714, 1.        , ..., 0.        , 0.11111111,\n",
              "        0.11111111],\n",
              "       [0.05063291, 0.28571429, 0.        , ..., 0.        , 0.        ,\n",
              "        0.        ],\n",
              "       [0.07278481, 0.14285714, 1.        , ..., 0.        , 0.        ,\n",
              "        0.        ],\n",
              "       ...,\n",
              "       [0.01360759, 0.        , 1.        , ..., 1.        , 1.        ,\n",
              "        1.        ],\n",
              "       [0.01360759, 0.        , 1.        , ..., 1.        , 1.        ,\n",
              "        1.        ],\n",
              "       [0.0443038 , 0.28571429, 1.        , ..., 1.        , 1.        ,\n",
              "        1.        ]])"
            ]
          },
          "metadata": {},
          "execution_count": 63
        }
      ]
    },
    {
      "cell_type": "code",
      "source": [
        "Y"
      ],
      "metadata": {
        "colab": {
          "base_uri": "https://localhost:8080/"
        },
        "id": "aBHV45OgEbke",
        "outputId": "aa5c04fd-ea61-428d-e93f-6a6acf462370"
      },
      "execution_count": 64,
      "outputs": [
        {
          "output_type": "execute_result",
          "data": {
            "text/plain": [
              "array([0.00996951, 0.00469153, 0.01524748, ..., 0.00070373, 0.00410509,\n",
              "       0.00258034])"
            ]
          },
          "metadata": {},
          "execution_count": 64
        }
      ]
    },
    {
      "cell_type": "code",
      "execution_count": 66,
      "metadata": {
        "id": "F8u1L3sPbQAT"
      },
      "outputs": [],
      "source": [
        "from sklearn.model_selection import train_test_split"
      ]
    },
    {
      "cell_type": "code",
      "execution_count": 67,
      "metadata": {
        "id": "vaL65yp3bTb0"
      },
      "outputs": [],
      "source": [
        "X_train, X_val_test, Y_train, Y_val_test = train_test_split(X, Y, test_size=0.3)\n",
        "X_val, X_test, Y_val, Y_test = train_test_split(X_val_test, Y_val_test, test_size=0.5)"
      ]
    },
    {
      "cell_type": "code",
      "execution_count": 68,
      "metadata": {
        "colab": {
          "base_uri": "https://localhost:8080/"
        },
        "id": "Y4i6BtCsbV6r",
        "outputId": "c8a701ed-ef0a-479f-c1f7-38639957295f"
      },
      "outputs": [
        {
          "output_type": "stream",
          "name": "stdout",
          "text": [
            "(3498, 29) (750, 29) (750, 29) (3498,) (750,) (750,)\n"
          ]
        }
      ],
      "source": [
        "print(X_train.shape, X_val.shape, X_test.shape, Y_train.shape, Y_val.shape, Y_test.shape)"
      ]
    },
    {
      "cell_type": "code",
      "execution_count": 74,
      "metadata": {
        "id": "XX_CyVNPbbkx"
      },
      "outputs": [],
      "source": [
        "from keras.models import Sequential\n",
        "from keras.layers import Dense"
      ]
    },
    {
      "cell_type": "code",
      "execution_count": 78,
      "metadata": {
        "id": "LAw0D0zzbeKC"
      },
      "outputs": [],
      "source": [
        "model = Sequential([\n",
        "    Dense(32, activation='tanh', input_shape=(29, )),\n",
        "    Dense(32, activation='tanh'),\n",
        "    Dense(1, activation='sigmoid'),\n",
        "])"
      ]
    },
    {
      "cell_type": "code",
      "execution_count": 79,
      "metadata": {
        "id": "tRnC73kobgEr"
      },
      "outputs": [],
      "source": [
        "model.compile(optimizer='sgd',\n",
        "              loss='mean_squared_error',\n",
        "              metrics=['accuracy'])"
      ]
    },
    {
      "cell_type": "code",
      "execution_count": 80,
      "metadata": {
        "colab": {
          "base_uri": "https://localhost:8080/"
        },
        "id": "fHbGbSx_biBK",
        "outputId": "563c9c25-d4ca-43e4-ec34-f8c35caf7306"
      },
      "outputs": [
        {
          "output_type": "stream",
          "name": "stdout",
          "text": [
            "Epoch 1/100\n",
            "110/110 [==============================] - 1s 4ms/step - loss: 0.0762 - accuracy: 0.0129 - val_loss: 0.0512 - val_accuracy: 0.0107\n",
            "Epoch 2/100\n",
            "110/110 [==============================] - 0s 2ms/step - loss: 0.0387 - accuracy: 0.0129 - val_loss: 0.0304 - val_accuracy: 0.0107\n",
            "Epoch 3/100\n",
            "110/110 [==============================] - 0s 2ms/step - loss: 0.0254 - accuracy: 0.0129 - val_loss: 0.0208 - val_accuracy: 0.0107\n",
            "Epoch 4/100\n",
            "110/110 [==============================] - 0s 2ms/step - loss: 0.0187 - accuracy: 0.0129 - val_loss: 0.0155 - val_accuracy: 0.0107\n",
            "Epoch 5/100\n",
            "110/110 [==============================] - 0s 2ms/step - loss: 0.0148 - accuracy: 0.0129 - val_loss: 0.0123 - val_accuracy: 0.0107\n",
            "Epoch 6/100\n",
            "110/110 [==============================] - 0s 2ms/step - loss: 0.0123 - accuracy: 0.0129 - val_loss: 0.0101 - val_accuracy: 0.0107\n",
            "Epoch 7/100\n",
            "110/110 [==============================] - 0s 2ms/step - loss: 0.0106 - accuracy: 0.0129 - val_loss: 0.0086 - val_accuracy: 0.0107\n",
            "Epoch 8/100\n",
            "110/110 [==============================] - 0s 2ms/step - loss: 0.0094 - accuracy: 0.0129 - val_loss: 0.0075 - val_accuracy: 0.0107\n",
            "Epoch 9/100\n",
            "110/110 [==============================] - 0s 2ms/step - loss: 0.0085 - accuracy: 0.0129 - val_loss: 0.0066 - val_accuracy: 0.0107\n",
            "Epoch 10/100\n",
            "110/110 [==============================] - 0s 2ms/step - loss: 0.0078 - accuracy: 0.0129 - val_loss: 0.0060 - val_accuracy: 0.0107\n",
            "Epoch 11/100\n",
            "110/110 [==============================] - 0s 2ms/step - loss: 0.0072 - accuracy: 0.0129 - val_loss: 0.0054 - val_accuracy: 0.0107\n",
            "Epoch 12/100\n",
            "110/110 [==============================] - 0s 2ms/step - loss: 0.0068 - accuracy: 0.0129 - val_loss: 0.0050 - val_accuracy: 0.0107\n",
            "Epoch 13/100\n",
            "110/110 [==============================] - 0s 2ms/step - loss: 0.0064 - accuracy: 0.0129 - val_loss: 0.0046 - val_accuracy: 0.0107\n",
            "Epoch 14/100\n",
            "110/110 [==============================] - 0s 3ms/step - loss: 0.0061 - accuracy: 0.0129 - val_loss: 0.0043 - val_accuracy: 0.0107\n",
            "Epoch 15/100\n",
            "110/110 [==============================] - 0s 3ms/step - loss: 0.0058 - accuracy: 0.0129 - val_loss: 0.0041 - val_accuracy: 0.0107\n",
            "Epoch 16/100\n",
            "110/110 [==============================] - 0s 3ms/step - loss: 0.0056 - accuracy: 0.0129 - val_loss: 0.0039 - val_accuracy: 0.0107\n",
            "Epoch 17/100\n",
            "110/110 [==============================] - 0s 3ms/step - loss: 0.0054 - accuracy: 0.0129 - val_loss: 0.0037 - val_accuracy: 0.0107\n",
            "Epoch 18/100\n",
            "110/110 [==============================] - 0s 3ms/step - loss: 0.0053 - accuracy: 0.0129 - val_loss: 0.0035 - val_accuracy: 0.0107\n",
            "Epoch 19/100\n",
            "110/110 [==============================] - 0s 3ms/step - loss: 0.0051 - accuracy: 0.0129 - val_loss: 0.0034 - val_accuracy: 0.0107\n",
            "Epoch 20/100\n",
            "110/110 [==============================] - 0s 3ms/step - loss: 0.0050 - accuracy: 0.0129 - val_loss: 0.0032 - val_accuracy: 0.0107\n",
            "Epoch 21/100\n",
            "110/110 [==============================] - 0s 3ms/step - loss: 0.0049 - accuracy: 0.0129 - val_loss: 0.0031 - val_accuracy: 0.0107\n",
            "Epoch 22/100\n",
            "110/110 [==============================] - 0s 2ms/step - loss: 0.0048 - accuracy: 0.0129 - val_loss: 0.0030 - val_accuracy: 0.0107\n",
            "Epoch 23/100\n",
            "110/110 [==============================] - 0s 2ms/step - loss: 0.0047 - accuracy: 0.0129 - val_loss: 0.0029 - val_accuracy: 0.0107\n",
            "Epoch 24/100\n",
            "110/110 [==============================] - 0s 2ms/step - loss: 0.0046 - accuracy: 0.0129 - val_loss: 0.0028 - val_accuracy: 0.0107\n",
            "Epoch 25/100\n",
            "110/110 [==============================] - 0s 2ms/step - loss: 0.0045 - accuracy: 0.0129 - val_loss: 0.0028 - val_accuracy: 0.0107\n",
            "Epoch 26/100\n",
            "110/110 [==============================] - 0s 2ms/step - loss: 0.0044 - accuracy: 0.0129 - val_loss: 0.0027 - val_accuracy: 0.0107\n",
            "Epoch 27/100\n",
            "110/110 [==============================] - 0s 2ms/step - loss: 0.0044 - accuracy: 0.0129 - val_loss: 0.0026 - val_accuracy: 0.0107\n",
            "Epoch 28/100\n",
            "110/110 [==============================] - 0s 3ms/step - loss: 0.0043 - accuracy: 0.0129 - val_loss: 0.0026 - val_accuracy: 0.0107\n",
            "Epoch 29/100\n",
            "110/110 [==============================] - 0s 2ms/step - loss: 0.0043 - accuracy: 0.0129 - val_loss: 0.0025 - val_accuracy: 0.0107\n",
            "Epoch 30/100\n",
            "110/110 [==============================] - 0s 2ms/step - loss: 0.0042 - accuracy: 0.0129 - val_loss: 0.0025 - val_accuracy: 0.0107\n",
            "Epoch 31/100\n",
            "110/110 [==============================] - 0s 2ms/step - loss: 0.0042 - accuracy: 0.0129 - val_loss: 0.0024 - val_accuracy: 0.0107\n",
            "Epoch 32/100\n",
            "110/110 [==============================] - 0s 2ms/step - loss: 0.0041 - accuracy: 0.0129 - val_loss: 0.0024 - val_accuracy: 0.0107\n",
            "Epoch 33/100\n",
            "110/110 [==============================] - 0s 2ms/step - loss: 0.0041 - accuracy: 0.0129 - val_loss: 0.0024 - val_accuracy: 0.0107\n",
            "Epoch 34/100\n",
            "110/110 [==============================] - 0s 2ms/step - loss: 0.0041 - accuracy: 0.0129 - val_loss: 0.0023 - val_accuracy: 0.0107\n",
            "Epoch 35/100\n",
            "110/110 [==============================] - 0s 2ms/step - loss: 0.0040 - accuracy: 0.0129 - val_loss: 0.0023 - val_accuracy: 0.0107\n",
            "Epoch 36/100\n",
            "110/110 [==============================] - 0s 2ms/step - loss: 0.0040 - accuracy: 0.0129 - val_loss: 0.0023 - val_accuracy: 0.0107\n",
            "Epoch 37/100\n",
            "110/110 [==============================] - 0s 2ms/step - loss: 0.0040 - accuracy: 0.0129 - val_loss: 0.0022 - val_accuracy: 0.0107\n",
            "Epoch 38/100\n",
            "110/110 [==============================] - 0s 2ms/step - loss: 0.0040 - accuracy: 0.0129 - val_loss: 0.0022 - val_accuracy: 0.0107\n",
            "Epoch 39/100\n",
            "110/110 [==============================] - 0s 2ms/step - loss: 0.0039 - accuracy: 0.0129 - val_loss: 0.0022 - val_accuracy: 0.0107\n",
            "Epoch 40/100\n",
            "110/110 [==============================] - 0s 2ms/step - loss: 0.0039 - accuracy: 0.0129 - val_loss: 0.0021 - val_accuracy: 0.0107\n",
            "Epoch 41/100\n",
            "110/110 [==============================] - 0s 2ms/step - loss: 0.0039 - accuracy: 0.0129 - val_loss: 0.0021 - val_accuracy: 0.0107\n",
            "Epoch 42/100\n",
            "110/110 [==============================] - 0s 2ms/step - loss: 0.0039 - accuracy: 0.0129 - val_loss: 0.0021 - val_accuracy: 0.0107\n",
            "Epoch 43/100\n",
            "110/110 [==============================] - 0s 2ms/step - loss: 0.0038 - accuracy: 0.0129 - val_loss: 0.0021 - val_accuracy: 0.0107\n",
            "Epoch 44/100\n",
            "110/110 [==============================] - 0s 2ms/step - loss: 0.0038 - accuracy: 0.0129 - val_loss: 0.0021 - val_accuracy: 0.0107\n",
            "Epoch 45/100\n",
            "110/110 [==============================] - 0s 2ms/step - loss: 0.0038 - accuracy: 0.0129 - val_loss: 0.0020 - val_accuracy: 0.0107\n",
            "Epoch 46/100\n",
            "110/110 [==============================] - 0s 2ms/step - loss: 0.0038 - accuracy: 0.0129 - val_loss: 0.0020 - val_accuracy: 0.0107\n",
            "Epoch 47/100\n",
            "110/110 [==============================] - 0s 2ms/step - loss: 0.0038 - accuracy: 0.0129 - val_loss: 0.0020 - val_accuracy: 0.0107\n",
            "Epoch 48/100\n",
            "110/110 [==============================] - 0s 2ms/step - loss: 0.0038 - accuracy: 0.0129 - val_loss: 0.0020 - val_accuracy: 0.0107\n",
            "Epoch 49/100\n",
            "110/110 [==============================] - 0s 2ms/step - loss: 0.0038 - accuracy: 0.0129 - val_loss: 0.0020 - val_accuracy: 0.0107\n",
            "Epoch 50/100\n",
            "110/110 [==============================] - 0s 2ms/step - loss: 0.0037 - accuracy: 0.0129 - val_loss: 0.0020 - val_accuracy: 0.0107\n",
            "Epoch 51/100\n",
            "110/110 [==============================] - 0s 2ms/step - loss: 0.0037 - accuracy: 0.0129 - val_loss: 0.0019 - val_accuracy: 0.0107\n",
            "Epoch 52/100\n",
            "110/110 [==============================] - 0s 2ms/step - loss: 0.0037 - accuracy: 0.0129 - val_loss: 0.0019 - val_accuracy: 0.0107\n",
            "Epoch 53/100\n",
            "110/110 [==============================] - 0s 2ms/step - loss: 0.0037 - accuracy: 0.0129 - val_loss: 0.0019 - val_accuracy: 0.0107\n",
            "Epoch 54/100\n",
            "110/110 [==============================] - 0s 2ms/step - loss: 0.0037 - accuracy: 0.0129 - val_loss: 0.0019 - val_accuracy: 0.0107\n",
            "Epoch 55/100\n",
            "110/110 [==============================] - 0s 2ms/step - loss: 0.0037 - accuracy: 0.0129 - val_loss: 0.0019 - val_accuracy: 0.0107\n",
            "Epoch 56/100\n",
            "110/110 [==============================] - 0s 2ms/step - loss: 0.0037 - accuracy: 0.0129 - val_loss: 0.0019 - val_accuracy: 0.0107\n",
            "Epoch 57/100\n",
            "110/110 [==============================] - 0s 2ms/step - loss: 0.0037 - accuracy: 0.0129 - val_loss: 0.0019 - val_accuracy: 0.0107\n",
            "Epoch 58/100\n",
            "110/110 [==============================] - 0s 2ms/step - loss: 0.0036 - accuracy: 0.0129 - val_loss: 0.0019 - val_accuracy: 0.0107\n",
            "Epoch 59/100\n",
            "110/110 [==============================] - 0s 2ms/step - loss: 0.0036 - accuracy: 0.0129 - val_loss: 0.0019 - val_accuracy: 0.0107\n",
            "Epoch 60/100\n",
            "110/110 [==============================] - 0s 3ms/step - loss: 0.0036 - accuracy: 0.0129 - val_loss: 0.0018 - val_accuracy: 0.0107\n",
            "Epoch 61/100\n",
            "110/110 [==============================] - 0s 3ms/step - loss: 0.0036 - accuracy: 0.0129 - val_loss: 0.0018 - val_accuracy: 0.0107\n",
            "Epoch 62/100\n",
            "110/110 [==============================] - 0s 3ms/step - loss: 0.0036 - accuracy: 0.0129 - val_loss: 0.0018 - val_accuracy: 0.0107\n",
            "Epoch 63/100\n",
            "110/110 [==============================] - 0s 3ms/step - loss: 0.0036 - accuracy: 0.0129 - val_loss: 0.0018 - val_accuracy: 0.0107\n",
            "Epoch 64/100\n",
            "110/110 [==============================] - 0s 3ms/step - loss: 0.0036 - accuracy: 0.0129 - val_loss: 0.0018 - val_accuracy: 0.0107\n",
            "Epoch 65/100\n",
            "110/110 [==============================] - 0s 3ms/step - loss: 0.0036 - accuracy: 0.0129 - val_loss: 0.0018 - val_accuracy: 0.0107\n",
            "Epoch 66/100\n",
            "110/110 [==============================] - 0s 3ms/step - loss: 0.0036 - accuracy: 0.0129 - val_loss: 0.0018 - val_accuracy: 0.0107\n",
            "Epoch 67/100\n",
            "110/110 [==============================] - 0s 3ms/step - loss: 0.0036 - accuracy: 0.0129 - val_loss: 0.0018 - val_accuracy: 0.0107\n",
            "Epoch 68/100\n",
            "110/110 [==============================] - 0s 3ms/step - loss: 0.0036 - accuracy: 0.0129 - val_loss: 0.0018 - val_accuracy: 0.0107\n",
            "Epoch 69/100\n",
            "110/110 [==============================] - 0s 2ms/step - loss: 0.0036 - accuracy: 0.0129 - val_loss: 0.0018 - val_accuracy: 0.0107\n",
            "Epoch 70/100\n",
            "110/110 [==============================] - 0s 2ms/step - loss: 0.0036 - accuracy: 0.0129 - val_loss: 0.0018 - val_accuracy: 0.0107\n",
            "Epoch 71/100\n",
            "110/110 [==============================] - 0s 2ms/step - loss: 0.0035 - accuracy: 0.0129 - val_loss: 0.0018 - val_accuracy: 0.0107\n",
            "Epoch 72/100\n",
            "110/110 [==============================] - 0s 2ms/step - loss: 0.0035 - accuracy: 0.0129 - val_loss: 0.0018 - val_accuracy: 0.0107\n",
            "Epoch 73/100\n",
            "110/110 [==============================] - 0s 2ms/step - loss: 0.0035 - accuracy: 0.0129 - val_loss: 0.0017 - val_accuracy: 0.0107\n",
            "Epoch 74/100\n",
            "110/110 [==============================] - 0s 3ms/step - loss: 0.0035 - accuracy: 0.0129 - val_loss: 0.0017 - val_accuracy: 0.0107\n",
            "Epoch 75/100\n",
            "110/110 [==============================] - 0s 2ms/step - loss: 0.0035 - accuracy: 0.0129 - val_loss: 0.0017 - val_accuracy: 0.0107\n",
            "Epoch 76/100\n",
            "110/110 [==============================] - 0s 2ms/step - loss: 0.0035 - accuracy: 0.0129 - val_loss: 0.0017 - val_accuracy: 0.0107\n",
            "Epoch 77/100\n",
            "110/110 [==============================] - 0s 2ms/step - loss: 0.0035 - accuracy: 0.0129 - val_loss: 0.0017 - val_accuracy: 0.0107\n",
            "Epoch 78/100\n",
            "110/110 [==============================] - 0s 2ms/step - loss: 0.0035 - accuracy: 0.0129 - val_loss: 0.0017 - val_accuracy: 0.0107\n",
            "Epoch 79/100\n",
            "110/110 [==============================] - 0s 2ms/step - loss: 0.0035 - accuracy: 0.0129 - val_loss: 0.0017 - val_accuracy: 0.0107\n",
            "Epoch 80/100\n",
            "110/110 [==============================] - 0s 2ms/step - loss: 0.0035 - accuracy: 0.0129 - val_loss: 0.0017 - val_accuracy: 0.0107\n",
            "Epoch 81/100\n",
            "110/110 [==============================] - 0s 2ms/step - loss: 0.0035 - accuracy: 0.0129 - val_loss: 0.0017 - val_accuracy: 0.0107\n",
            "Epoch 82/100\n",
            "110/110 [==============================] - 0s 2ms/step - loss: 0.0035 - accuracy: 0.0129 - val_loss: 0.0017 - val_accuracy: 0.0107\n",
            "Epoch 83/100\n",
            "110/110 [==============================] - 0s 2ms/step - loss: 0.0035 - accuracy: 0.0129 - val_loss: 0.0017 - val_accuracy: 0.0107\n",
            "Epoch 84/100\n",
            "110/110 [==============================] - 0s 2ms/step - loss: 0.0035 - accuracy: 0.0129 - val_loss: 0.0017 - val_accuracy: 0.0107\n",
            "Epoch 85/100\n",
            "110/110 [==============================] - 0s 3ms/step - loss: 0.0035 - accuracy: 0.0129 - val_loss: 0.0017 - val_accuracy: 0.0107\n",
            "Epoch 86/100\n",
            "110/110 [==============================] - 0s 2ms/step - loss: 0.0035 - accuracy: 0.0129 - val_loss: 0.0017 - val_accuracy: 0.0107\n",
            "Epoch 87/100\n",
            "110/110 [==============================] - 0s 2ms/step - loss: 0.0035 - accuracy: 0.0129 - val_loss: 0.0017 - val_accuracy: 0.0107\n",
            "Epoch 88/100\n",
            "110/110 [==============================] - 0s 2ms/step - loss: 0.0035 - accuracy: 0.0129 - val_loss: 0.0017 - val_accuracy: 0.0107\n",
            "Epoch 89/100\n",
            "110/110 [==============================] - 0s 2ms/step - loss: 0.0035 - accuracy: 0.0129 - val_loss: 0.0017 - val_accuracy: 0.0107\n",
            "Epoch 90/100\n",
            "110/110 [==============================] - 0s 2ms/step - loss: 0.0035 - accuracy: 0.0129 - val_loss: 0.0017 - val_accuracy: 0.0107\n",
            "Epoch 91/100\n",
            "110/110 [==============================] - 0s 2ms/step - loss: 0.0035 - accuracy: 0.0129 - val_loss: 0.0017 - val_accuracy: 0.0107\n",
            "Epoch 92/100\n",
            "110/110 [==============================] - 0s 2ms/step - loss: 0.0035 - accuracy: 0.0129 - val_loss: 0.0017 - val_accuracy: 0.0107\n",
            "Epoch 93/100\n",
            "110/110 [==============================] - 0s 2ms/step - loss: 0.0035 - accuracy: 0.0129 - val_loss: 0.0017 - val_accuracy: 0.0107\n",
            "Epoch 94/100\n",
            "110/110 [==============================] - 0s 2ms/step - loss: 0.0034 - accuracy: 0.0129 - val_loss: 0.0017 - val_accuracy: 0.0107\n",
            "Epoch 95/100\n",
            "110/110 [==============================] - 0s 2ms/step - loss: 0.0034 - accuracy: 0.0129 - val_loss: 0.0017 - val_accuracy: 0.0107\n",
            "Epoch 96/100\n",
            "110/110 [==============================] - 0s 2ms/step - loss: 0.0034 - accuracy: 0.0129 - val_loss: 0.0016 - val_accuracy: 0.0107\n",
            "Epoch 97/100\n",
            "110/110 [==============================] - 0s 2ms/step - loss: 0.0034 - accuracy: 0.0129 - val_loss: 0.0016 - val_accuracy: 0.0107\n",
            "Epoch 98/100\n",
            "110/110 [==============================] - 0s 3ms/step - loss: 0.0034 - accuracy: 0.0129 - val_loss: 0.0016 - val_accuracy: 0.0107\n",
            "Epoch 99/100\n",
            "110/110 [==============================] - 0s 2ms/step - loss: 0.0034 - accuracy: 0.0129 - val_loss: 0.0016 - val_accuracy: 0.0107\n",
            "Epoch 100/100\n",
            "110/110 [==============================] - 0s 2ms/step - loss: 0.0034 - accuracy: 0.0129 - val_loss: 0.0016 - val_accuracy: 0.0107\n"
          ]
        }
      ],
      "source": [
        "import numpy as np\n",
        "hist = model.fit(X_train, np.array(Y_train), batch_size=32, epochs=100, validation_data=(X_val, np.array(Y_val)))\n"
      ]
    },
    {
      "cell_type": "code",
      "execution_count": 81,
      "metadata": {
        "colab": {
          "base_uri": "https://localhost:8080/"
        },
        "id": "Vdm8xoRXc_UD",
        "outputId": "2d658b96-2441-46cd-89ee-021ac04ef60c"
      },
      "outputs": [
        {
          "output_type": "stream",
          "name": "stdout",
          "text": [
            "24/24 [==============================] - 0s 2ms/step - loss: 0.0039 - accuracy: 0.0080    \n"
          ]
        },
        {
          "output_type": "execute_result",
          "data": {
            "text/plain": [
              "0.00800000037997961"
            ]
          },
          "metadata": {},
          "execution_count": 81
        }
      ],
      "source": [
        "model.evaluate(X_test, Y_test)[1]"
      ]
    },
    {
      "cell_type": "code",
      "source": [
        "import matplotlib.pyplot as plt"
      ],
      "metadata": {
        "id": "vBM2yWxt6NON"
      },
      "execution_count": 82,
      "outputs": []
    },
    {
      "cell_type": "code",
      "source": [
        "plt.plot(hist.history['loss'])\n",
        "plt.plot(hist.history['val_loss'])\n",
        "plt.title('Model loss')\n",
        "plt.ylabel('Loss')\n",
        "plt.xlabel('Epoch')\n",
        "plt.legend(['Train', 'Val'], loc='upper right')\n",
        "plt.show()"
      ],
      "metadata": {
        "colab": {
          "base_uri": "https://localhost:8080/",
          "height": 472
        },
        "id": "qzLMl9J66cuX",
        "outputId": "df7bae6e-b242-4757-f659-c962a249190a"
      },
      "execution_count": 83,
      "outputs": [
        {
          "output_type": "display_data",
          "data": {
            "text/plain": [
              "<Figure size 640x480 with 1 Axes>"
            ],
            "image/png": "[encoded data removed]"
          },
          "metadata": {}
        }
      ]
    },
    {
      "cell_type": "code",
      "source": [
        "from keras.layers import Dropout\n",
        "from keras import regularizers"
      ],
      "metadata": {
        "id": "7hyZNlVsfmHn"
      },
      "execution_count": 84,
      "outputs": []
    },
    {
      "cell_type": "code",
      "source": [
        "model_3 = Sequential([\n",
        "    Dense(1000, activation='relu', kernel_regularizer=regularizers.l2(0.01), input_shape=(29,)),\n",
        "    Dropout(0.3),\n",
        "    Dense(1000, activation='relu', kernel_regularizer=regularizers.l2(0.01)),\n",
        "    Dropout(0.3),\n",
        "    Dense(1000, activation='relu', kernel_regularizer=regularizers.l2(0.01)),\n",
        "    Dropout(0.3),\n",
        "    Dense(1000, activation='relu', kernel_regularizer=regularizers.l2(0.01)),\n",
        "    Dropout(0.3),\n",
        "    Dense(1, activation='sigmoid', kernel_regularizer=regularizers.l2(0.01)),\n",
        "])"
      ],
      "metadata": {
        "id": "cJL68lvx60NO"
      },
      "execution_count": 87,
      "outputs": []
    },
    {
      "cell_type": "code",
      "source": [
        "model_3.compile(optimizer='adam',\n",
        "              loss='binary_crossentropy',\n",
        "              metrics=['accuracy'])\n",
        "\n",
        "hist_3 = model_3.fit(X_train, Y_train,\n",
        "          batch_size=50, epochs=100,\n",
        "          validation_data=(X_val, Y_val))"
      ],
      "metadata": {
        "id": "qPvWLRZV60RX",
        "colab": {
          "base_uri": "https://localhost:8080/"
        },
        "outputId": "039201e1-882b-4d35-f724-c9e753ba4843"
      },
      "execution_count": null,
      "outputs": [
        {
          "output_type": "stream",
          "name": "stdout",
          "text": [
            "Epoch 1/100\n",
            "70/70 [==============================] - 6s 70ms/step - loss: 7.2003 - accuracy: 0.0129 - val_loss: 0.2167 - val_accuracy: 0.0107\n",
            "Epoch 2/100\n",
            "70/70 [==============================] - 5s 71ms/step - loss: 0.1407 - accuracy: 0.0129 - val_loss: 0.1034 - val_accuracy: 0.0107\n",
            "Epoch 3/100\n",
            "70/70 [==============================] - 7s 95ms/step - loss: 0.1111 - accuracy: 0.0129 - val_loss: 0.0984 - val_accuracy: 0.0107\n",
            "Epoch 4/100\n",
            "70/70 [==============================] - 4s 62ms/step - loss: 0.1049 - accuracy: 0.0129 - val_loss: 0.0901 - val_accuracy: 0.0107\n",
            "Epoch 5/100\n",
            "70/70 [==============================] - 6s 80ms/step - loss: 0.1025 - accuracy: 0.0129 - val_loss: 0.0878 - val_accuracy: 0.0107\n",
            "Epoch 6/100\n",
            "70/70 [==============================] - 5s 64ms/step - loss: 0.0990 - accuracy: 0.0129 - val_loss: 0.0845 - val_accuracy: 0.0107\n",
            "Epoch 7/100\n",
            "70/70 [==============================] - 5s 76ms/step - loss: 0.0966 - accuracy: 0.0129 - val_loss: 0.0821 - val_accuracy: 0.0107\n",
            "Epoch 8/100\n",
            "70/70 [==============================] - 5s 70ms/step - loss: 0.0947 - accuracy: 0.0129 - val_loss: 0.0850 - val_accuracy: 0.0107\n",
            "Epoch 9/100\n",
            "70/70 [==============================] - 4s 64ms/step - loss: 0.0943 - accuracy: 0.0129 - val_loss: 0.0803 - val_accuracy: 0.0107\n",
            "Epoch 10/100\n",
            "70/70 [==============================] - 6s 82ms/step - loss: 0.0944 - accuracy: 0.0129 - val_loss: 0.0809 - val_accuracy: 0.0107\n",
            "Epoch 11/100\n",
            "70/70 [==============================] - 4s 62ms/step - loss: 0.0944 - accuracy: 0.0129 - val_loss: 0.0811 - val_accuracy: 0.0107\n",
            "Epoch 12/100\n",
            "70/70 [==============================] - 5s 65ms/step - loss: 0.0934 - accuracy: 0.0129 - val_loss: 0.0792 - val_accuracy: 0.0107\n",
            "Epoch 13/100\n",
            "70/70 [==============================] - 6s 80ms/step - loss: 0.0923 - accuracy: 0.0129 - val_loss: 0.0782 - val_accuracy: 0.0107\n",
            "Epoch 14/100\n",
            "70/70 [==============================] - 5s 66ms/step - loss: 0.0924 - accuracy: 0.0129 - val_loss: 0.0779 - val_accuracy: 0.0107\n",
            "Epoch 15/100\n",
            "70/70 [==============================] - 6s 79ms/step - loss: 0.0913 - accuracy: 0.0129 - val_loss: 0.0779 - val_accuracy: 0.0107\n",
            "Epoch 16/100\n",
            "70/70 [==============================] - 5s 65ms/step - loss: 0.0916 - accuracy: 0.0129 - val_loss: 0.0831 - val_accuracy: 0.0107\n",
            "Epoch 17/100\n",
            "70/70 [==============================] - 5s 68ms/step - loss: 0.0913 - accuracy: 0.0129 - val_loss: 0.0777 - val_accuracy: 0.0107\n",
            "Epoch 18/100\n",
            "70/70 [==============================] - 6s 83ms/step - loss: 0.0904 - accuracy: 0.0129 - val_loss: 0.0769 - val_accuracy: 0.0107\n",
            "Epoch 19/100\n",
            "70/70 [==============================] - 5s 66ms/step - loss: 0.0903 - accuracy: 0.0129 - val_loss: 0.0768 - val_accuracy: 0.0107\n",
            "Epoch 20/100\n",
            "70/70 [==============================] - 5s 76ms/step - loss: 0.0900 - accuracy: 0.0129 - val_loss: 0.0768 - val_accuracy: 0.0107\n",
            "Epoch 21/100\n",
            "70/70 [==============================] - 5s 70ms/step - loss: 0.0898 - accuracy: 0.0129 - val_loss: 0.0763 - val_accuracy: 0.0107\n",
            "Epoch 22/100\n",
            "70/70 [==============================] - 5s 67ms/step - loss: 0.0894 - accuracy: 0.0129 - val_loss: 0.0763 - val_accuracy: 0.0107\n",
            "Epoch 23/100\n",
            "70/70 [==============================] - 6s 83ms/step - loss: 0.0899 - accuracy: 0.0129 - val_loss: 0.0760 - val_accuracy: 0.0107\n",
            "Epoch 24/100\n",
            "70/70 [==============================] - 5s 68ms/step - loss: 0.0894 - accuracy: 0.0129 - val_loss: 0.0765 - val_accuracy: 0.0107\n",
            "Epoch 25/100\n",
            "70/70 [==============================] - 6s 90ms/step - loss: 0.0894 - accuracy: 0.0129 - val_loss: 0.0776 - val_accuracy: 0.0107\n",
            "Epoch 26/100\n",
            "32/70 [============>.................] - ETA: 2s - loss: 0.0953 - accuracy: 0.0075"
          ]
        }
      ]
    },
    {
      "cell_type": "markdown",
      "source": [],
      "metadata": {
        "id": "_-VOjbRDqEIF"
      }
    },
    {
      "cell_type": "code",
      "source": [
        "plt.plot(hist.history['loss'])\n",
        "plt.plot(hist.history['val_loss'])\n",
        "plt.title('Model loss')\n",
        "plt.ylabel('Loss')\n",
        "plt.xlabel('Epoch')\n",
        "plt.legend(['Train', 'Val'], loc='upper right')\n",
        "plt.show()"
      ],
      "metadata": {
        "id": "rp-2WuGfghdw"
      },
      "execution_count": null,
      "outputs": []
    },
    {
      "cell_type": "code",
      "source": [
        "\n",
        "def unscale_data(scaled_data, min_val, max_val):\n",
        "    unscaled_data = scaled_data * (max_val - min_val) + min_val\n",
        "    return unscaled_data"
      ],
      "metadata": {
        "id": "-c6kYL6G1tWr"
      },
      "execution_count": 46,
      "outputs": []
    },
    {
      "cell_type": "code",
      "source": [
        "\n",
        "# Rescale the predicted and actual efficiency\n",
        "min_efficiency = scaler.data_min_[-1]\n",
        "max_efficiency = scaler.data_max_[-1]\n",
        "\n",
        "unscaled_Y_pred = unscale_data(model.predict(X_test), min_efficiency, max_efficiency)\n",
        "unscaled_Y_test = unscale_data(Y_test.reshape(-1, 1), min_efficiency, max_efficiency)\n",
        "\n"
      ],
      "metadata": {
        "colab": {
          "base_uri": "https://localhost:8080/"
        },
        "id": "gNIQAYols5nW",
        "outputId": "a6f518b2-f903-428c-86ef-15f5ab2b7a17"
      },
      "execution_count": null,
      "outputs": [
        {
          "output_type": "stream",
          "name": "stdout",
          "text": [
            "15/15 [==============================] - 0s 2ms/step\n"
          ]
        }
      ]
    },
    {
      "cell_type": "code",
      "source": [
        "\n",
        "plt.plot(hist.history['accuracy'])\n",
        "plt.plot(hist.history['val_accuracy'])\n",
        "plt.title('Model Accuracy')\n",
        "plt.ylabel('Accuracy')\n",
        "plt.xlabel('Epoch')\n",
        "plt.legend(['Train', 'Val'], loc='upper right')\n",
        "plt.ylim(top=0.01, bottom=0)\n",
        "plt.show()"
      ],
      "metadata": {
        "id": "-Di6ktacvLGF",
        "colab": {
          "base_uri": "https://localhost:8080/",
          "height": 472
        },
        "outputId": "2ee03019-e4dc-4b26-f7d8-ee9d873d70cc"
      },
      "execution_count": null,
      "outputs": [
        {
          "output_type": "display_data",
          "data": {
            "text/plain": [
              "<Figure size 640x480 with 1 Axes>"
            ],
            "image/png": "[encoded data removed]"
          },
          "metadata": {}
        }
      ]
    },
    {
      "cell_type": "code",
      "source": [
        "# Calculate mean absolute percentage error\n",
        "mape = np.mean(abs((unscaled_Y_pred - unscaled_Y_test) / unscaled_Y_test) * 100)\n",
        "\n",
        "print(\"Mean Absolute Percentage Error: {:.2f}%\".format(mape))\n"
      ],
      "metadata": {
        "id": "01eNLzAV5oLj",
        "colab": {
          "base_uri": "https://localhost:8080/"
        },
        "outputId": "bc2a49b5-297e-42ec-dd9e-30ce2f7a3ab2"
      },
      "execution_count": null,
      "outputs": [
        {
          "output_type": "stream",
          "name": "stdout",
          "text": [
            "Mean Absolute Percentage Error: 1.03%\n"
          ]
        }
      ]
    }
  ],
  "metadata": {
    "colab": {
      "provenance": []
    },
    "kernelspec": {
      "display_name": "Python 3",
      "name": "python3"
    },
    "language_info": {
      "name": "python"
    }
  },
  "nbformat": 4,
  "nbformat_minor": 0
}